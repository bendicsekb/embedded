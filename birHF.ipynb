{
  "nbformat": 4,
  "nbformat_minor": 0,
  "metadata": {
    "colab": {
      "name": "birHF.ipynb",
      "provenance": [],
      "collapsed_sections": [],
      "toc_visible": true,
      "authorship_tag": "ABX9TyPoTxk7nFffvqC6x1aR86q3",
      "include_colab_link": true
    },
    "kernelspec": {
      "name": "python3",
      "display_name": "Python 3"
    }
  },
  "cells": [
    {
      "cell_type": "markdown",
      "metadata": {
        "id": "view-in-github",
        "colab_type": "text"
      },
      "source": [
        "<a href=\"https://colab.research.google.com/github/bendicsekb/embedded/blob/master/birHF.ipynb\" target=\"_parent\"><img src=\"https://colab.research.google.com/assets/colab-badge.svg\" alt=\"Open In Colab\"/></a>"
      ]
    },
    {
      "cell_type": "code",
      "metadata": {
        "id": "bZUKk86-f1Zx"
      },
      "source": [
        "SHOW_PLOTS = False"
      ],
      "execution_count": null,
      "outputs": []
    },
    {
      "cell_type": "markdown",
      "metadata": {
        "id": "YXDFpD210NKE"
      },
      "source": [
        "#1. Feladat\n"
      ]
    },
    {
      "cell_type": "code",
      "metadata": {
        "id": "5Rq_ZeGV0cjQ"
      },
      "source": [
        "p1 = 4\n",
        "p2 = 7\n",
        "p3 = 0"
      ],
      "execution_count": null,
      "outputs": []
    },
    {
      "cell_type": "markdown",
      "metadata": {
        "id": "Gi1FGoOX38BZ"
      },
      "source": [
        "#1.1"
      ]
    },
    {
      "cell_type": "code",
      "metadata": {
        "id": "SjFmynlmgRao"
      },
      "source": [
        "def create_tasks(verbose=True):\n",
        "  task1 = {\n",
        "      \"T\": 8*p1,\n",
        "      \"C\": 2*p1,\n",
        "      \"T0\": 0,\n",
        "      \"priority\": 1,\n",
        "      \"done\": False,\n",
        "      \"left\": 2*p1,\n",
        "      \"name\": 'task1',\n",
        "      \"arrivals\": [0, 0+8*p1],\n",
        "      \"start_times\": [],\n",
        "      \"end_times\": []\n",
        "  }\n",
        "  task2 = {\n",
        "      \"T\": 16*p1,\n",
        "      \"C\": 2*p1,\n",
        "      \"T0\": p2*p1,\n",
        "      \"priority\": 2,\n",
        "      \"done\": True,\n",
        "      \"left\": 2*p1,\n",
        "      \"name\": 'task2',\n",
        "      \"arrivals\": [p2*p1, p2*p1+16*p1],\n",
        "      \"start_times\": [],\n",
        "      \"end_times\": []\n",
        "  }\n",
        "  task3 = {\n",
        "      \"T\": 32*p1,\n",
        "      \"C\": 8*p1,\n",
        "      \"T0\": p3*p1,\n",
        "      \"priority\": 3,\n",
        "      \"done\": False,\n",
        "      \"left\": 8*p1,\n",
        "      \"name\": 'task3',\n",
        "      \"arrivals\": [p3*p1, p3*p1+32*p1],\n",
        "      \"start_times\": [],\n",
        "      \"end_times\": []\n",
        "  }\n",
        "  scheduler = {\n",
        "      \"T\": 1,\n",
        "      \"C\": 0.1,\n",
        "      \"T0\": 0,\n",
        "      \"priority\": 0,\n",
        "      \"done\": False,\n",
        "      \"left\": 0.1,\n",
        "      \"name\": 'scheduler',\n",
        "      \"arrivals\": [0],\n",
        "      \"start_times\": [],\n",
        "      \"end_times\": []\n",
        "  }\n",
        "  if verbose:\n",
        "    print(f'\\n{task1[\"name\"]}\\t\\tT: {task1[\"T\"]}\\tC: {task1[\"C\"]}\\tT0: {task1[\"T0\"]}')\n",
        "    print(f'{task2[\"name\"]}\\t\\tT: {task2[\"T\"]}\\tC: {task2[\"C\"]}\\tT0: {task2[\"T0\"]}')\n",
        "    print(f'{task3[\"name\"]}\\t\\tT: {task3[\"T\"]}\\tC: {task3[\"C\"]}\\tT0: {task3[\"T0\"]}')\n",
        "    print(f'{scheduler[\"name\"]}\\tT: {scheduler[\"T\"]}\\tC: {scheduler[\"C\"]}\\tT0: {scheduler[\"T0\"]}\\n')\n",
        "  return task1, task2, task3, scheduler"
      ],
      "execution_count": null,
      "outputs": []
    },
    {
      "cell_type": "code",
      "metadata": {
        "id": "gF-iEpo1hZ_h"
      },
      "source": [
        "import numpy as np\n",
        "\n",
        "def exc1_1(task1, task2, task3, scheduler):\n",
        "  current_task = None\n",
        "  epsilon = 1e-4\n",
        "  scheduling = []\n",
        "  unused_time = 0\n",
        "  unused_times = []\n",
        "  interval_end = np.lcm.reduce([task1[\"T\"], task2[\"T\"], task3[\"T\"]])\n",
        "  for ms in range(0,interval_end):\n",
        "    # update doneness based on arrival times\n",
        "    if not ms == 0:\n",
        "      for task in [task1, task2, task3]:\n",
        "        if  ms % task[\"T\"] == task[\"T0\"]:\n",
        "          if not task[\"done\"]:\n",
        "            print('Cannot be scheduled!')\n",
        "          else:\n",
        "            task[\"done\"] = False\n",
        "            task[\"left\"] = task[\"C\"]\n",
        "            task[\"arrivals\"].append(ms)\n",
        "\n",
        "\n",
        "    # run the scheduler\n",
        "    scheduling.append(\n",
        "        [ms, round(ms+scheduler[\"C\"], 1), scheduler[\"name\"]]\n",
        "    )\n",
        "    curr_time = round(ms+scheduler[\"C\"], 1)\n",
        "    time_to_execute = round(1 - scheduler[\"C\"], 1)\n",
        "    scheduler[\"start_times\"].append(ms)\n",
        "    scheduler[\"end_times\"].append(curr_time)\n",
        "\n",
        "    # run one of the tasks and update \n",
        "    ran_task = False\n",
        "    for task in [task1, task2, task3]:\n",
        "      if not task[\"done\"]:\n",
        "        task_left = task[\"left\"]\n",
        "        if current_task != task[\"name\"]:\n",
        "          task[\"start_times\"].append(curr_time)\n",
        "          for last_task in [task1, task2, task3]:\n",
        "            if last_task[\"name\"] == current_task:\n",
        "              last_task[\"end_times\"].append(ms)\n",
        "              break\n",
        "          current_task = task[\"name\"]\n",
        "        \n",
        "        task[\"left\"] = round(task_left - time_to_execute, 1)\n",
        "        if task[\"left\"] < epsilon:\n",
        "          task[\"done\"] = True\n",
        "          task[\"left\"] = task[\"C\"]\n",
        "          task[\"end_times\"].append(round(curr_time + task_left, 1))\n",
        "          current_task = None\n",
        "          if abs(round(ms + 1 - task[\"end_times\"][-1], 1)) > epsilon:\n",
        "            unused_time = round(unused_time + ms + 1 - task[\"end_times\"][-1], 1)\n",
        "            unused_times.append((task[\"end_times\"][-1], ms+1, round(ms + 1 - task[\"end_times\"][-1], 1)))\n",
        "        \n",
        "        scheduling.append(\n",
        "        [curr_time, ms+1 if task[\"left\"] > epsilon else task[\"end_times\"][-1], task[\"name\"]]\n",
        "        )\n",
        "        ran_task = True\n",
        "        \n",
        "        break\n",
        "      \n",
        "    if not ran_task:\n",
        "      unused_time = round(unused_time + time_to_execute, 1)\n",
        "      unused_times.append((curr_time, ms+1, time_to_execute))\n",
        "\n",
        "  return interval_end, scheduler, task1, task2, task3, unused_time, unused_times\n"
      ],
      "execution_count": null,
      "outputs": []
    },
    {
      "cell_type": "code",
      "metadata": {
        "id": "FmoXP61rupJy"
      },
      "source": [
        "import matplotlib.pyplot as plt"
      ],
      "execution_count": null,
      "outputs": []
    },
    {
      "cell_type": "code",
      "metadata": {
        "id": "_7bbH9kcDqBl"
      },
      "source": [
        "def show_scheduling(SHOW_PLOTS, fig_name, task1, task2, task3, scheduler):\n",
        "  fig, ax = plt.subplots()\n",
        "  fig.set_size_inches(40, 5)\n",
        "  ax.broken_barh([(round(s, 1), round(e-s, 1)) for s,e in zip(task1[\"start_times\"], task1[\"end_times\"])], (10, 5), facecolors='blue')\n",
        "  ax.broken_barh([(a, .2) for a in task1[\"arrivals\"] ], (10, 3), facecolors='magenta')\n",
        "\n",
        "  ax.broken_barh([(round(s, 1), round(e-s, 1)) for s,e in zip(task2[\"start_times\"], task2[\"end_times\"])], (5, 5), facecolors='yellow')\n",
        "  ax.broken_barh([(a, .2) for a in task2[\"arrivals\"] ], (5, 3), facecolors='magenta')\n",
        "\n",
        "  ax.broken_barh([(round(s, 1), round(e-s, 1)) for s,e in zip(task3[\"start_times\"], task3[\"end_times\"])], (0, 5), facecolors='green')\n",
        "  ax.broken_barh([(a, .2) for a in task3[\"arrivals\"] ], (0, 3), facecolors='magenta')\n",
        "\n",
        "  ax.broken_barh([(round(s, 1), round(e-s, 1)) for s,e in zip(scheduler[\"start_times\"], scheduler[\"end_times\"])], (15, 5), facecolors='red')\n",
        "  if len(scheduler[\"arrivals\"]) > 0:\n",
        "    ax.broken_barh([(a, .2) for a in scheduler[\"arrivals\"] ], (15, 3), facecolors='magenta')\n",
        "  \n",
        "  ax.set_xlabel('ms')\n",
        "  ax.set_xticks([e for e in range(0, 131, 5)])\n",
        "  ax.set_yticks([0, 5, 10, 15])\n",
        "  ax.set_yticklabels([task3['name'], task2['name'], task1['name'], scheduler['name']])\n",
        "  ax.grid(True)\n",
        "  if SHOW_PLOTS:\n",
        "    plt.show()\n",
        "  else:\n",
        "    plt.savefig(f\"figure_{fig_name}.png\", dpi=300)"
      ],
      "execution_count": null,
      "outputs": []
    },
    {
      "cell_type": "code",
      "metadata": {
        "id": "RK_f6yWFG8Yc"
      },
      "source": [
        "def evaluate_exc(exc_num, exc, create_tasks, constant_scheduler=True):\n",
        "  print(f'Evaluating excercise: {exc_num}')\n",
        "  interval_end, scheduler, task1, task2, task3, unused_time, unused_times = exc(*create_tasks())\n",
        "  print(f'Found scheduling for repeating sequence with period {interval_end}(ms)')\n",
        "  all_scheduler_times = [(round(s, 1), round(e, 1)) for s,e in zip(scheduler[\"start_times\"], scheduler[\"end_times\"])] \n",
        "  scheduler_times =  [all_scheduler_times[0:4], '...', all_scheduler_times[-4:]] if constant_scheduler else all_scheduler_times\n",
        "  print(scheduler[\"name\"], *scheduler_times)\n",
        "  for task in [task1, task2, task3]:\n",
        "    print(task[\"name\"], [(round(s, 1), round(e, 1)) for s,e in zip(task[\"start_times\"], task[\"end_times\"])])\n",
        "  show_scheduling(SHOW_PLOTS, exc_num, task1, task2, task3,scheduler)\n",
        "  print(f'CPU idle times (start (ms), end (ms), duration (ms)): {unused_times}')\n",
        "  print(f'Total idle time: {unused_time}(ms)')\n",
        "  print(f'CPU utilization: {1- (unused_time / interval_end)}')"
      ],
      "execution_count": null,
      "outputs": []
    },
    {
      "cell_type": "code",
      "metadata": {
        "colab": {
          "base_uri": "https://localhost:8080/",
          "height": 498
        },
        "id": "Ne0xBMca3xEh",
        "outputId": "fae02ea6-2135-4792-9bc2-53291c8a8252"
      },
      "source": [
        "evaluate_exc(\"1.1\", exc1_1, create_tasks)"
      ],
      "execution_count": null,
      "outputs": [
        {
          "output_type": "stream",
          "text": [
            "Evaluating excercise: 1.1\n",
            "\n",
            "task1\t\tT: 32\tC: 8\tT0: 0\n",
            "task2\t\tT: 64\tC: 8\tT0: 28\n",
            "task3\t\tT: 128\tC: 32\tT0: 0\n",
            "scheduler\tT: 1\tC: 0.1\tT0: 0\n",
            "\n",
            "Found scheduling for repeating sequence with period 128(ms)\n",
            "scheduler [(0, 0.1), (1, 1.1), (2, 2.1), (3, 3.1)] ... [(124, 124.1), (125, 125.1), (126, 126.1), (127, 127.1)]\n",
            "task1 [(0.1, 8.9), (32.1, 40.9), (64.1, 72.9), (96.1, 104.9)]\n",
            "task2 [(28.1, 32), (41.1, 45.9), (92.1, 96), (105.1, 109.9)]\n",
            "task3 [(9.1, 28), (46.1, 62.6)]\n",
            "CPU idle times (start (ms), end (ms), duration (ms)): [(8.9, 9, 0.1), (40.9, 41, 0.1), (45.9, 46, 0.1), (62.6, 63, 0.4), (63.1, 64, 0.9), (72.9, 73, 0.1), (73.1, 74, 0.9), (74.1, 75, 0.9), (75.1, 76, 0.9), (76.1, 77, 0.9), (77.1, 78, 0.9), (78.1, 79, 0.9), (79.1, 80, 0.9), (80.1, 81, 0.9), (81.1, 82, 0.9), (82.1, 83, 0.9), (83.1, 84, 0.9), (84.1, 85, 0.9), (85.1, 86, 0.9), (86.1, 87, 0.9), (87.1, 88, 0.9), (88.1, 89, 0.9), (89.1, 90, 0.9), (90.1, 91, 0.9), (91.1, 92, 0.9), (104.9, 105, 0.1), (109.9, 110, 0.1), (110.1, 111, 0.9), (111.1, 112, 0.9), (112.1, 113, 0.9), (113.1, 114, 0.9), (114.1, 115, 0.9), (115.1, 116, 0.9), (116.1, 117, 0.9), (117.1, 118, 0.9), (118.1, 119, 0.9), (119.1, 120, 0.9), (120.1, 121, 0.9), (121.1, 122, 0.9), (122.1, 123, 0.9), (123.1, 124, 0.9), (124.1, 125, 0.9), (125.1, 126, 0.9), (126.1, 127, 0.9), (127.1, 128, 0.9)]\n",
            "Total idle time: 35.2(ms)\n",
            "CPU utilization: 0.725\n"
          ],
          "name": "stdout"
        },
        {
          "output_type": "display_data",
          "data": {
            "image/png": "[encoded data removed]",
            "text/plain": [
              "<Figure size 2880x360 with 1 Axes>"
            ]
          },
          "metadata": {
            "tags": [],
            "needs_background": "light"
          }
        }
      ]
    },
    {
      "cell_type": "markdown",
      "metadata": {
        "id": "Pp_3RWon4R6m"
      },
      "source": [
        "#1.2"
      ]
    },
    {
      "cell_type": "code",
      "metadata": {
        "id": "0t2PSpPw4F2p"
      },
      "source": [
        "def exc1_2(task1, task2, task3, scheduler):\n",
        "  current_task = None\n",
        "  epsilon = 1e-4\n",
        "  scheduling = []\n",
        "  unused_time = 0\n",
        "  unused_times = []\n",
        "  interval_end = np.lcm.reduce([task1[\"T\"], task2[\"T\"], task3[\"T\"]])\n",
        "  for ms in range(0,interval_end):\n",
        "    # update doneness based on arrival times\n",
        "    if not ms == 0:\n",
        "      for task in [task1, task2, task3]:\n",
        "        if  ms % task[\"T\"] == task[\"T0\"]:\n",
        "          if not task[\"done\"]:\n",
        "            print('Cannot be scheduled!')\n",
        "          else:\n",
        "            task[\"done\"] = False\n",
        "            task[\"left\"] = task[\"C\"]\n",
        "            task[\"arrivals\"].append(ms)\n",
        "\n",
        "    curr_time = ms\n",
        "    time_to_execute = 1\n",
        "\n",
        "    # run one of the tasks and update \n",
        "    ran_task = False\n",
        "    for task in [task1, task2, task3]:\n",
        "      if not task[\"done\"]:\n",
        "        task_left = task[\"left\"]\n",
        "        # if task_left == task[\"C\"]:\n",
        "        #   task[\"start_times\"].append(curr_time)\n",
        "        if current_task != task[\"name\"]:\n",
        "          # run the scheduler\n",
        "          scheduling.append(\n",
        "            [ms, round(ms+scheduler[\"C\"], 1), scheduler[\"name\"]]\n",
        "          )\n",
        "          curr_time = round(ms+scheduler[\"C\"], 1)\n",
        "          time_to_execute = round(1 - scheduler[\"C\"], 1)\n",
        "          scheduler[\"start_times\"].append(ms)\n",
        "          scheduler[\"end_times\"].append(curr_time)\n",
        "          # print(\"-----\", \"NEW TASK\")\n",
        "          task[\"start_times\"].append(curr_time)\n",
        "          for last_task in [task1, task2, task3]:\n",
        "            if last_task[\"name\"] == current_task:\n",
        "              last_task[\"end_times\"].append(ms)\n",
        "              # print(\"-----\", last_task[\"end_times\"])\n",
        "              break\n",
        "          current_task = task[\"name\"]\n",
        "        \n",
        "        task[\"left\"] = round(task_left - time_to_execute, 1)\n",
        "        if task[\"left\"] < epsilon:\n",
        "          task[\"done\"] = True\n",
        "          task[\"left\"] = task[\"C\"]\n",
        "          task[\"end_times\"].append(round(curr_time + task_left, 1))\n",
        "          current_task = None\n",
        "          if abs(round(ms + 1 - task[\"end_times\"][-1], 1)) > epsilon:\n",
        "            unused_time = round(unused_time + ms + 1 - task[\"end_times\"][-1], 1)\n",
        "            unused_times.append((task[\"end_times\"][-1], ms+1, round(ms + 1 - task[\"end_times\"][-1], 1)))\n",
        "        \n",
        "        scheduling.append(\n",
        "        [curr_time, ms+1 if task[\"left\"] > epsilon else task[\"end_times\"][-1], task[\"name\"]]\n",
        "        )\n",
        "        ran_task = True\n",
        "        \n",
        "        break\n",
        "      \n",
        "    if not ran_task:\n",
        "      unused_time = round(unused_time + time_to_execute, 1)\n",
        "      unused_times.append((curr_time, ms+1, time_to_execute))\n",
        "\n",
        "  return interval_end, scheduler, task1, task2, task3, unused_time, unused_times"
      ],
      "execution_count": null,
      "outputs": []
    },
    {
      "cell_type": "code",
      "metadata": {
        "colab": {
          "base_uri": "https://localhost:8080/",
          "height": 498
        },
        "id": "eh3_IuVlCaot",
        "outputId": "26e216a5-a1ad-4869-c540-2bb2854a20da"
      },
      "source": [
        "evaluate_exc(\"1.2\", exc1_2, create_tasks, constant_scheduler=False)"
      ],
      "execution_count": null,
      "outputs": [
        {
          "output_type": "stream",
          "text": [
            "Evaluating excercise: 1.2\n",
            "\n",
            "task1\t\tT: 32\tC: 8\tT0: 0\n",
            "task2\t\tT: 64\tC: 8\tT0: 28\n",
            "task3\t\tT: 128\tC: 32\tT0: 0\n",
            "scheduler\tT: 1\tC: 0.1\tT0: 0\n",
            "\n",
            "Found scheduling for repeating sequence with period 128(ms)\n",
            "scheduler (0, 0.1) (9, 9.1) (28, 28.1) (32, 32.1) (41, 41.1) (46, 46.1) (64, 64.1) (92, 92.1) (96, 96.1) (105, 105.1)\n",
            "task1 [(0.1, 8.1), (32.1, 40.1), (64.1, 72.1), (96.1, 104.1)]\n",
            "task2 [(28.1, 32), (41.1, 45.2), (92.1, 96), (105.1, 109.2)]\n",
            "task3 [(9.1, 28), (46.1, 59.2)]\n",
            "CPU idle times (start (ms), end (ms), duration (ms)): [(8.1, 9, 0.9), (40.1, 41, 0.9), (45.2, 46, 0.8), (59.2, 60, 0.8), (60, 61, 1), (61, 62, 1), (62, 63, 1), (63, 64, 1), (72.1, 73, 0.9), (73, 74, 1), (74, 75, 1), (75, 76, 1), (76, 77, 1), (77, 78, 1), (78, 79, 1), (79, 80, 1), (80, 81, 1), (81, 82, 1), (82, 83, 1), (83, 84, 1), (84, 85, 1), (85, 86, 1), (86, 87, 1), (87, 88, 1), (88, 89, 1), (89, 90, 1), (90, 91, 1), (91, 92, 1), (104.1, 105, 0.9), (109.2, 110, 0.8), (110, 111, 1), (111, 112, 1), (112, 113, 1), (113, 114, 1), (114, 115, 1), (115, 116, 1), (116, 117, 1), (117, 118, 1), (118, 119, 1), (119, 120, 1), (120, 121, 1), (121, 122, 1), (122, 123, 1), (123, 124, 1), (124, 125, 1), (125, 126, 1), (126, 127, 1), (127, 128, 1)]\n",
            "Total idle time: 47.0(ms)\n",
            "CPU utilization: 0.6328125\n"
          ],
          "name": "stdout"
        },
        {
          "output_type": "display_data",
          "data": {
            "image/png": "[encoded data removed]",
            "text/plain": [
              "<Figure size 2880x360 with 1 Axes>"
            ]
          },
          "metadata": {
            "tags": [],
            "needs_background": "light"
          }
        }
      ]
    },
    {
      "cell_type": "markdown",
      "metadata": {
        "id": "wdZtw1XtMwIZ"
      },
      "source": [
        "#1.3"
      ]
    },
    {
      "cell_type": "code",
      "metadata": {
        "id": "PJzEzZrFJJsa"
      },
      "source": [
        "from math import ceil"
      ],
      "execution_count": null,
      "outputs": []
    },
    {
      "cell_type": "code",
      "metadata": {
        "id": "Ilb3aJ_HAlVW"
      },
      "source": [
        "def iterate(R, wc_task, hp_tasks):\n",
        "  sum = 0\n",
        "  for task in hp_tasks:\n",
        "    sum = round(sum + (ceil(R / task[\"T\"]) * task[\"C\"]), 1)\n",
        "  \n",
        "  R_n_plus_1 = round(wc_task[\"C\"] + sum, 1)\n",
        "  print(f'{R}\\t{sum}\\t{wc_task[\"C\"]}\\t{R_n_plus_1}')\n",
        "  return R_n_plus_1"
      ],
      "execution_count": null,
      "outputs": []
    },
    {
      "cell_type": "markdown",
      "metadata": {
        "id": "R9I4dMkmKk9S"
      },
      "source": [
        "DMA Analysis would calculate the worst case response time iteratively. In our case the scheduler takes a defined time Cs in every period Ts. Let's make things simpler by removing the scheduler task and calculating the ceiling function for every C'i=Ci/(Ts-Cs) for every i-th task.\n",
        "\n",
        "Taking the ceiling gives the effect that each task can only be started in the next scheduler period."
      ]
    },
    {
      "cell_type": "code",
      "metadata": {
        "id": "yrkaXhbCMxN5"
      },
      "source": [
        "def exc1_3(task1, task2, task3, scheduler):\n",
        "  R = 0\n",
        "  task1[\"C\"] = ceil(task1[\"C\"] / (scheduler[\"T\"] - scheduler[\"C\"]))\n",
        "  task2[\"C\"] = ceil(task2[\"C\"] / (scheduler[\"T\"] - scheduler[\"C\"]))\n",
        "  task3[\"C\"] = ceil(task3[\"C\"] / (scheduler[\"T\"] - scheduler[\"C\"]))\n",
        "\n",
        "  print('\\nR^(n)\\tI\\tC\\tR^(n+1)')\n",
        "  while True:\n",
        "    R_n_plus_1 = iterate(R, task3, [task1, task2])\n",
        "    if R == R_n_plus_1:\n",
        "      break\n",
        "    else:\n",
        "      R = R_n_plus_1\n",
        "  print(f'Worst case response time of task3: {R}(ms)')\n"
      ],
      "execution_count": null,
      "outputs": []
    },
    {
      "cell_type": "code",
      "metadata": {
        "id": "psJTSLmNMzMB"
      },
      "source": [
        "def evaluate_exc_simple(exc_num, exc, create_tasks):\n",
        "  print(f'Evaluating excercise: {exc_num}')\n",
        "  exc(*create_tasks())\n"
      ],
      "execution_count": null,
      "outputs": []
    },
    {
      "cell_type": "code",
      "metadata": {
        "colab": {
          "base_uri": "https://localhost:8080/"
        },
        "id": "EWUFMDgTNwHB",
        "outputId": "02bf3297-3cb7-49ef-8c72-18ab1c11de39"
      },
      "source": [
        "evaluate_exc_simple(\"1.3\", exc1_3, create_tasks)"
      ],
      "execution_count": null,
      "outputs": [
        {
          "output_type": "stream",
          "text": [
            "Evaluating excercise: 1.3\n",
            "\n",
            "task1\t\tT: 32\tC: 8\tT0: 0\n",
            "task2\t\tT: 64\tC: 8\tT0: 28\n",
            "task3\t\tT: 128\tC: 32\tT0: 0\n",
            "scheduler\tT: 1\tC: 0.1\tT0: 0\n",
            "\n",
            "\n",
            "R^(n)\tI\tC\tR^(n+1)\n",
            "0\t0\t36\t36\n",
            "36\t27\t36\t63\n",
            "63\t27\t36\t63\n",
            "Worst case response time of task3: 63(ms)\n"
          ],
          "name": "stdout"
        }
      ]
    },
    {
      "cell_type": "markdown",
      "metadata": {
        "id": "C4aVuj9yMzfx"
      },
      "source": [
        "#1.4"
      ]
    },
    {
      "cell_type": "code",
      "metadata": {
        "id": "SPIkByTIef9r"
      },
      "source": [
        "def get_smallest(queue, current_task):\n",
        "  if len(queue) < 1:\n",
        "    return []\n",
        "  min = 0\n",
        "  for i in range(len(queue)):\n",
        "    if queue[i][0] < queue[min][0]:\n",
        "      min = i\n",
        "  mins = [element for _, element in enumerate(queue) if queue[min][0] == element[0]]\n",
        "  same_task = [min for min in mins if min[1][\"name\"] == current_task]\n",
        "  return mins[0] if len(same_task) < 1 else same_task[0]\n",
        "\n",
        "def delete_task_from(queue, taskname):\n",
        "  for i, elem in enumerate(queue):\n",
        "    task = elem[1]\n",
        "    if task[\"name\"] == taskname:\n",
        "       del queue[i]"
      ],
      "execution_count": null,
      "outputs": []
    },
    {
      "cell_type": "code",
      "metadata": {
        "id": "u5c3mbMqM2nJ"
      },
      "source": [
        "def exc1_4(task1, task2, task3, scheduler):\n",
        "  current_task = None\n",
        "  epsilon = 1e-4\n",
        "  scheduling = []\n",
        "  unused_time = 0\n",
        "  unused_times = []\n",
        "  task_queue = []\n",
        "  interval_end = np.lcm.reduce([task1[\"T\"], task2[\"T\"], task3[\"T\"]])\n",
        "\n",
        "  for task in [task1, task2, task3]:\n",
        "    if task[\"T0\"] == 0:\n",
        "      task_deadline = task[\"T\"]\n",
        "      task_queue.append((task_deadline, task))\n",
        "\n",
        "\n",
        "  for ms in range(0,interval_end):\n",
        "    # update doneness based on arrival times\n",
        "    if not ms == 0:\n",
        "      for task in [task1, task2, task3]:\n",
        "        if  ms % task[\"T\"] == task[\"T0\"]:\n",
        "          if not task[\"done\"]:\n",
        "            print('Cannot be scheduled!')\n",
        "          else:\n",
        "            task[\"done\"] = False\n",
        "            task[\"left\"] = task[\"C\"]\n",
        "            task[\"arrivals\"].append(ms)\n",
        "            task_deadline = ms + task[\"T\"]\n",
        "            task_queue.append((task_deadline, task))\n",
        "    \n",
        "    # run the scheduler\n",
        "    scheduling.append(\n",
        "        [ms, round(ms+scheduler[\"C\"], 1), scheduler[\"name\"]]\n",
        "    )\n",
        "    curr_time = round(ms+scheduler[\"C\"], 1)\n",
        "    time_to_execute = round(1 - scheduler[\"C\"], 1)\n",
        "    scheduler[\"start_times\"].append(ms)\n",
        "    scheduler[\"end_times\"].append(curr_time)\n",
        "\n",
        "    ran_task = False\n",
        "    if len(task_queue):\n",
        "      task = get_smallest(task_queue, current_task)[1]\n",
        "      if current_task != task[\"name\"]:\n",
        "        task[\"start_times\"].append(curr_time)\n",
        "        for last_task in [task1, task2, task3]:\n",
        "          if last_task[\"name\"] == current_task:\n",
        "            last_task[\"end_times\"].append(ms)\n",
        "            break\n",
        "        current_task = task[\"name\"]\n",
        "\n",
        "      task_left = task[\"left\"]\n",
        "      task[\"left\"] = round(task_left - time_to_execute, 1)\n",
        "      if task[\"left\"] < epsilon:\n",
        "        task[\"done\"] = True\n",
        "        task[\"left\"] = task[\"C\"]\n",
        "        task[\"end_times\"].append(round(curr_time + task_left, 1))\n",
        "        delete_task_from(task_queue, current_task)\n",
        "        current_task = None\n",
        "        if abs(round(ms + 1 - task[\"end_times\"][-1], 1)) > epsilon:\n",
        "          unused_time = round(unused_time + ms + 1 - task[\"end_times\"][-1], 1)\n",
        "          unused_times.append((task[\"end_times\"][-1], ms+1, round(ms + 1 - task[\"end_times\"][-1], 1)))\n",
        "      \n",
        "      scheduling.append(\n",
        "      [curr_time, ms+1 if task[\"left\"] > epsilon else task[\"end_times\"][-1], task[\"name\"]]\n",
        "      )\n",
        "      ran_task = True\n",
        "\n",
        "    if not ran_task:\n",
        "      unused_time = round(unused_time + time_to_execute, 1)\n",
        "      unused_times.append((curr_time, ms+1, time_to_execute))\n",
        "\n",
        "\n",
        "  return interval_end, scheduler, task1, task2, task3, unused_time, unused_times"
      ],
      "execution_count": null,
      "outputs": []
    },
    {
      "cell_type": "code",
      "metadata": {
        "colab": {
          "base_uri": "https://localhost:8080/",
          "height": 498
        },
        "id": "Avi9r-1ZaTe8",
        "outputId": "dd1d0989-3cfc-4751-d7ba-79073eb96800"
      },
      "source": [
        "evaluate_exc(\"1.4\", exc1_4, create_tasks)"
      ],
      "execution_count": null,
      "outputs": [
        {
          "output_type": "stream",
          "text": [
            "Evaluating excercise: 1.4\n",
            "\n",
            "task1\t\tT: 32\tC: 8\tT0: 0\n",
            "task2\t\tT: 64\tC: 8\tT0: 28\n",
            "task3\t\tT: 128\tC: 32\tT0: 0\n",
            "scheduler\tT: 1\tC: 0.1\tT0: 0\n",
            "\n",
            "Found scheduling for repeating sequence with period 128(ms)\n",
            "scheduler [(0, 0.1), (1, 1.1), (2, 2.1), (3, 3.1)] ... [(124, 124.1), (125, 125.1), (126, 126.1), (127, 127.1)]\n",
            "task1 [(0.1, 8.9), (32.1, 40.9), (64.1, 72.9), (96.1, 104.9)]\n",
            "task2 [(28.1, 32), (41.1, 45.9), (92.1, 96), (105.1, 109.9)]\n",
            "task3 [(9.1, 28), (46.1, 62.6)]\n",
            "CPU idle times (start (ms), end (ms), duration (ms)): [(8.9, 9, 0.1), (40.9, 41, 0.1), (45.9, 46, 0.1), (62.6, 63, 0.4), (63.1, 64, 0.9), (72.9, 73, 0.1), (73.1, 74, 0.9), (74.1, 75, 0.9), (75.1, 76, 0.9), (76.1, 77, 0.9), (77.1, 78, 0.9), (78.1, 79, 0.9), (79.1, 80, 0.9), (80.1, 81, 0.9), (81.1, 82, 0.9), (82.1, 83, 0.9), (83.1, 84, 0.9), (84.1, 85, 0.9), (85.1, 86, 0.9), (86.1, 87, 0.9), (87.1, 88, 0.9), (88.1, 89, 0.9), (89.1, 90, 0.9), (90.1, 91, 0.9), (91.1, 92, 0.9), (104.9, 105, 0.1), (109.9, 110, 0.1), (110.1, 111, 0.9), (111.1, 112, 0.9), (112.1, 113, 0.9), (113.1, 114, 0.9), (114.1, 115, 0.9), (115.1, 116, 0.9), (116.1, 117, 0.9), (117.1, 118, 0.9), (118.1, 119, 0.9), (119.1, 120, 0.9), (120.1, 121, 0.9), (121.1, 122, 0.9), (122.1, 123, 0.9), (123.1, 124, 0.9), (124.1, 125, 0.9), (125.1, 126, 0.9), (126.1, 127, 0.9), (127.1, 128, 0.9)]\n",
            "Total idle time: 35.2(ms)\n",
            "CPU utilization: 0.725\n"
          ],
          "name": "stdout"
        },
        {
          "output_type": "display_data",
          "data": {
            "image/png": "[encoded data removed]",
            "text/plain": [
              "<Figure size 2880x360 with 1 Axes>"
            ]
          },
          "metadata": {
            "tags": [],
            "needs_background": "light"
          }
        }
      ]
    },
    {
      "cell_type": "markdown",
      "metadata": {
        "id": "Z_sUEXmbM3EJ"
      },
      "source": [
        "#1.5"
      ]
    },
    {
      "cell_type": "code",
      "metadata": {
        "id": "1Ip7J6F49mzH"
      },
      "source": [
        "def create_tasks_no_C_scheduler():\n",
        "  task1, task2, task3, scheduler = create_tasks(verbose=False)\n",
        "  scheduler[\"C\"] = 0\n",
        "  print(f'\\n{task1[\"name\"]}\\t\\tT: {task1[\"T\"]}\\tC: {task1[\"C\"]}\\tT0: {task1[\"T0\"]}')\n",
        "  print(f'{task2[\"name\"]}\\t\\tT: {task2[\"T\"]}\\tC: {task2[\"C\"]}\\tT0: {task2[\"T0\"]}')\n",
        "  print(f'{task3[\"name\"]}\\t\\tT: {task3[\"T\"]}\\tC: {task3[\"C\"]}\\tT0: {task3[\"T0\"]}')\n",
        "  print(f'{scheduler[\"name\"]}\\tT: {scheduler[\"T\"]}\\tC: {scheduler[\"C\"]}\\tT0: {scheduler[\"T0\"]}\\n')\n",
        "  return task1, task2, task3, scheduler"
      ],
      "execution_count": null,
      "outputs": []
    },
    {
      "cell_type": "code",
      "metadata": {
        "colab": {
          "base_uri": "https://localhost:8080/",
          "height": 498
        },
        "id": "roGcKFAi9zFX",
        "outputId": "e4532773-404f-4247-fd99-7902e39d8687"
      },
      "source": [
        "# 1.1\n",
        "evaluate_exc(\"1.5_1.1\", exc1_1, create_tasks_no_C_scheduler)"
      ],
      "execution_count": null,
      "outputs": [
        {
          "output_type": "stream",
          "text": [
            "Evaluating excercise: 1.5_1.1\n",
            "\n",
            "task1\t\tT: 32\tC: 8\tT0: 0\n",
            "task2\t\tT: 64\tC: 8\tT0: 28\n",
            "task3\t\tT: 128\tC: 32\tT0: 0\n",
            "scheduler\tT: 1\tC: 0\tT0: 0\n",
            "\n",
            "Found scheduling for repeating sequence with period 128(ms)\n",
            "scheduler [(0, 0), (1, 1), (2, 2), (3, 3)] ... [(124, 124), (125, 125), (126, 126), (127, 127)]\n",
            "task1 [(0, 8), (32, 40), (64, 72), (96, 104)]\n",
            "task2 [(28, 32), (40, 44), (92, 96), (104, 108)]\n",
            "task3 [(8, 28), (44, 56)]\n",
            "CPU idle times (start (ms), end (ms), duration (ms)): [(56, 57, 1), (57, 58, 1), (58, 59, 1), (59, 60, 1), (60, 61, 1), (61, 62, 1), (62, 63, 1), (63, 64, 1), (72, 73, 1), (73, 74, 1), (74, 75, 1), (75, 76, 1), (76, 77, 1), (77, 78, 1), (78, 79, 1), (79, 80, 1), (80, 81, 1), (81, 82, 1), (82, 83, 1), (83, 84, 1), (84, 85, 1), (85, 86, 1), (86, 87, 1), (87, 88, 1), (88, 89, 1), (89, 90, 1), (90, 91, 1), (91, 92, 1), (108, 109, 1), (109, 110, 1), (110, 111, 1), (111, 112, 1), (112, 113, 1), (113, 114, 1), (114, 115, 1), (115, 116, 1), (116, 117, 1), (117, 118, 1), (118, 119, 1), (119, 120, 1), (120, 121, 1), (121, 122, 1), (122, 123, 1), (123, 124, 1), (124, 125, 1), (125, 126, 1), (126, 127, 1), (127, 128, 1)]\n",
            "Total idle time: 48(ms)\n",
            "CPU utilization: 0.625\n"
          ],
          "name": "stdout"
        },
        {
          "output_type": "display_data",
          "data": {
            "image/png": "[encoded data removed]",
            "text/plain": [
              "<Figure size 2880x360 with 1 Axes>"
            ]
          },
          "metadata": {
            "tags": [],
            "needs_background": "light"
          }
        }
      ]
    },
    {
      "cell_type": "code",
      "metadata": {
        "colab": {
          "base_uri": "https://localhost:8080/",
          "height": 498
        },
        "id": "EPVfW7lS9zy_",
        "outputId": "31853a73-0bd8-4900-ccd7-4b134957356c"
      },
      "source": [
        "# 1.2\n",
        "evaluate_exc(\"1.5_1.2\", exc1_2, create_tasks_no_C_scheduler)"
      ],
      "execution_count": null,
      "outputs": [
        {
          "output_type": "stream",
          "text": [
            "Evaluating excercise: 1.5_1.2\n",
            "\n",
            "task1\t\tT: 32\tC: 8\tT0: 0\n",
            "task2\t\tT: 64\tC: 8\tT0: 28\n",
            "task3\t\tT: 128\tC: 32\tT0: 0\n",
            "scheduler\tT: 1\tC: 0\tT0: 0\n",
            "\n",
            "Found scheduling for repeating sequence with period 128(ms)\n",
            "scheduler [(0, 0), (8, 8), (28, 28), (32, 32)] ... [(64, 64), (92, 92), (96, 96), (104, 104)]\n",
            "task1 [(0, 8), (32, 40), (64, 72), (96, 104)]\n",
            "task2 [(28, 32), (40, 44), (92, 96), (104, 108)]\n",
            "task3 [(8, 28), (44, 56)]\n",
            "CPU idle times (start (ms), end (ms), duration (ms)): [(56, 57, 1), (57, 58, 1), (58, 59, 1), (59, 60, 1), (60, 61, 1), (61, 62, 1), (62, 63, 1), (63, 64, 1), (72, 73, 1), (73, 74, 1), (74, 75, 1), (75, 76, 1), (76, 77, 1), (77, 78, 1), (78, 79, 1), (79, 80, 1), (80, 81, 1), (81, 82, 1), (82, 83, 1), (83, 84, 1), (84, 85, 1), (85, 86, 1), (86, 87, 1), (87, 88, 1), (88, 89, 1), (89, 90, 1), (90, 91, 1), (91, 92, 1), (108, 109, 1), (109, 110, 1), (110, 111, 1), (111, 112, 1), (112, 113, 1), (113, 114, 1), (114, 115, 1), (115, 116, 1), (116, 117, 1), (117, 118, 1), (118, 119, 1), (119, 120, 1), (120, 121, 1), (121, 122, 1), (122, 123, 1), (123, 124, 1), (124, 125, 1), (125, 126, 1), (126, 127, 1), (127, 128, 1)]\n",
            "Total idle time: 48(ms)\n",
            "CPU utilization: 0.625\n"
          ],
          "name": "stdout"
        },
        {
          "output_type": "display_data",
          "data": {
            "image/png": "[encoded data removed]",
            "text/plain": [
              "<Figure size 2880x360 with 1 Axes>"
            ]
          },
          "metadata": {
            "tags": [],
            "needs_background": "light"
          }
        }
      ]
    },
    {
      "cell_type": "code",
      "metadata": {
        "colab": {
          "base_uri": "https://localhost:8080/"
        },
        "id": "pBrvZdp-9zcX",
        "outputId": "31a8d2c7-91ad-4d93-d79e-5a6152a52a9f"
      },
      "source": [
        "# 1.3\n",
        "evaluate_exc_simple(\"1.5_1.3\", exc1_3, create_tasks_no_C_scheduler)"
      ],
      "execution_count": null,
      "outputs": [
        {
          "output_type": "stream",
          "text": [
            "Evaluating excercise: 1.5_1.3\n",
            "\n",
            "task1\t\tT: 32\tC: 8\tT0: 0\n",
            "task2\t\tT: 64\tC: 8\tT0: 28\n",
            "task3\t\tT: 128\tC: 32\tT0: 0\n",
            "scheduler\tT: 1\tC: 0\tT0: 0\n",
            "\n",
            "\n",
            "R^(n)\tI\tC\tR^(n+1)\n",
            "0\t0\t32\t32\n",
            "32\t16\t32\t48\n",
            "48\t24\t32\t56\n",
            "56\t24\t32\t56\n",
            "Worst case response time of task3: 56(ms)\n"
          ],
          "name": "stdout"
        }
      ]
    },
    {
      "cell_type": "code",
      "metadata": {
        "colab": {
          "base_uri": "https://localhost:8080/",
          "height": 498
        },
        "id": "iDIarbOM9zR-",
        "outputId": "840e5dca-837c-49d8-fb8b-c0c074c50f72"
      },
      "source": [
        "# 1.4\n",
        "evaluate_exc(\"1.5_1.4\", exc1_4, create_tasks_no_C_scheduler)"
      ],
      "execution_count": null,
      "outputs": [
        {
          "output_type": "stream",
          "text": [
            "Evaluating excercise: 1.5_1.4\n",
            "\n",
            "task1\t\tT: 32\tC: 8\tT0: 0\n",
            "task2\t\tT: 64\tC: 8\tT0: 28\n",
            "task3\t\tT: 128\tC: 32\tT0: 0\n",
            "scheduler\tT: 1\tC: 0\tT0: 0\n",
            "\n",
            "Found scheduling for repeating sequence with period 128(ms)\n",
            "scheduler [(0, 0), (1, 1), (2, 2), (3, 3)] ... [(124, 124), (125, 125), (126, 126), (127, 127)]\n",
            "task1 [(0, 8), (32, 40), (64, 72), (96, 104)]\n",
            "task2 [(28, 32), (40, 44), (92, 96), (104, 108)]\n",
            "task3 [(8, 28), (44, 56)]\n",
            "CPU idle times (start (ms), end (ms), duration (ms)): [(56, 57, 1), (57, 58, 1), (58, 59, 1), (59, 60, 1), (60, 61, 1), (61, 62, 1), (62, 63, 1), (63, 64, 1), (72, 73, 1), (73, 74, 1), (74, 75, 1), (75, 76, 1), (76, 77, 1), (77, 78, 1), (78, 79, 1), (79, 80, 1), (80, 81, 1), (81, 82, 1), (82, 83, 1), (83, 84, 1), (84, 85, 1), (85, 86, 1), (86, 87, 1), (87, 88, 1), (88, 89, 1), (89, 90, 1), (90, 91, 1), (91, 92, 1), (108, 109, 1), (109, 110, 1), (110, 111, 1), (111, 112, 1), (112, 113, 1), (113, 114, 1), (114, 115, 1), (115, 116, 1), (116, 117, 1), (117, 118, 1), (118, 119, 1), (119, 120, 1), (120, 121, 1), (121, 122, 1), (122, 123, 1), (123, 124, 1), (124, 125, 1), (125, 126, 1), (126, 127, 1), (127, 128, 1)]\n",
            "Total idle time: 48(ms)\n",
            "CPU utilization: 0.625\n"
          ],
          "name": "stdout"
        },
        {
          "output_type": "display_data",
          "data": {
            "image/png": "[encoded data removed]",
            "text/plain": [
              "<Figure size 2880x360 with 1 Axes>"
            ]
          },
          "metadata": {
            "tags": [],
            "needs_background": "light"
          }
        }
      ]
    },
    {
      "cell_type": "markdown",
      "metadata": {
        "id": "nSukDn1O_k8O"
      },
      "source": [
        "#1.6"
      ]
    },
    {
      "cell_type": "markdown",
      "metadata": {
        "id": "YPkFLRnNQiX7"
      },
      "source": [
        "###RM Server task:\n",
        "\n",
        "CPU utilization is 8/32+8/64+32/128=5/8 => We can get a server with harmonic period T in relation to the other tasks.\n",
        "\n",
        "Let Ts := 8ms and Cs := 3ms\n",
        "\n",
        "This way the CPU utilization will be exactly 1, but because of the harmonic relation of the periods this is a necessary and sufficient condition of a scheduling."
      ]
    },
    {
      "cell_type": "code",
      "metadata": {
        "id": "Uc0gDQGGTSNZ"
      },
      "source": [
        "def create_tasks_RM_server():\n",
        "  task1, task2, task3, _ = create_tasks(verbose=False)\n",
        "  server = {\n",
        "      \"T\": 8,\n",
        "      \"C\": 3,\n",
        "      \"T0\": 0,\n",
        "      \"priority\": 0,\n",
        "      \"done\": False,\n",
        "      \"left\": 3,\n",
        "      \"name\": 'server',\n",
        "      \"arrivals\": [0],\n",
        "      \"start_times\": [],\n",
        "      \"end_times\": []\n",
        "  }\n",
        "  print(f'{server[\"name\"]}\\tT: {server[\"T\"]}\\tC: {server[\"C\"]}\\tT0: {server[\"T0\"]}')\n",
        "  print(f'{task1[\"name\"]}\\tT: {task1[\"T\"]}\\tC: {task1[\"C\"]}\\tT0: {task1[\"T0\"]}')\n",
        "  print(f'{task2[\"name\"]}\\tT: {task2[\"T\"]}\\tC: {task2[\"C\"]}\\tT0: {task2[\"T0\"]}')\n",
        "  print(f'{task3[\"name\"]}\\tT: {task3[\"T\"]}\\tC: {task3[\"C\"]}\\tT0: {task3[\"T0\"]}')\n",
        "  return task1, task2, task3, server"
      ],
      "execution_count": null,
      "outputs": []
    },
    {
      "cell_type": "code",
      "metadata": {
        "colab": {
          "base_uri": "https://localhost:8080/"
        },
        "id": "L4_LjHVPT8oR",
        "outputId": "6343299f-2a87-41f0-85ac-af8928e9d453"
      },
      "source": [
        "create_tasks_RM_server();"
      ],
      "execution_count": null,
      "outputs": [
        {
          "output_type": "stream",
          "text": [
            "server\tT: 8\tC: 3\tT0: 0\n",
            "task1\tT: 32\tC: 8\tT0: 0\n",
            "task2\tT: 64\tC: 8\tT0: 28\n",
            "task3\tT: 128\tC: 32\tT0: 0\n"
          ],
          "name": "stdout"
        }
      ]
    },
    {
      "cell_type": "code",
      "metadata": {
        "id": "4mn9nGBKUWpD"
      },
      "source": [
        "def exc1_6(task1, task2, task3, server):\n",
        "  current_task = None\n",
        "  epsilon = 1e-4\n",
        "  scheduling = []\n",
        "  unused_time = 0\n",
        "  unused_times = []\n",
        "  interval_end = np.lcm.reduce([task1[\"T\"], task2[\"T\"], task3[\"T\"], server[\"T\"]])\n",
        "  for ms in range(0,interval_end):\n",
        "    # update doneness based on arrival times\n",
        "    if not ms == 0:\n",
        "      for task in [task1, task2, task3, server]:\n",
        "        if  ms % task[\"T\"] == task[\"T0\"]:\n",
        "          if not task[\"done\"]:\n",
        "            print('Cannot be scheduled!')\n",
        "          else:\n",
        "            task[\"done\"] = False\n",
        "            task[\"left\"] = task[\"C\"]\n",
        "            task[\"arrivals\"].append(ms)\n",
        "   \n",
        "    curr_time = ms\n",
        "    time_to_execute = 1\n",
        "    # run one of the tasks and update \n",
        "    ran_task = False\n",
        "    for task in [server, task1, task2, task3]:\n",
        "      if not task[\"done\"]:\n",
        "        task_left = task[\"left\"]\n",
        "        if current_task != task[\"name\"]:\n",
        "          task[\"start_times\"].append(curr_time)\n",
        "          for last_task in [task1, task2, task3]:\n",
        "            if last_task[\"name\"] == current_task:\n",
        "              last_task[\"end_times\"].append(ms)\n",
        "              break\n",
        "          current_task = task[\"name\"]\n",
        "        \n",
        "        task[\"left\"] = round(task_left - time_to_execute, 1)\n",
        "        if task[\"left\"] < epsilon:\n",
        "          task[\"done\"] = True\n",
        "          task[\"left\"] = task[\"C\"]\n",
        "          task[\"end_times\"].append(round(curr_time + task_left, 1))\n",
        "          current_task = None\n",
        "          if abs(round(ms + 1 - task[\"end_times\"][-1], 1)) > epsilon:\n",
        "            unused_time = round(unused_time + ms + 1 - task[\"end_times\"][-1], 1)\n",
        "            unused_times.append((task[\"end_times\"][-1], ms+1, round(ms + 1 - task[\"end_times\"][-1], 1)))\n",
        "        \n",
        "        scheduling.append(\n",
        "        [curr_time, ms+1 if task[\"left\"] > epsilon else task[\"end_times\"][-1], task[\"name\"]]\n",
        "        )\n",
        "        ran_task = True\n",
        "        \n",
        "        break\n",
        "      \n",
        "    if not ran_task:\n",
        "      unused_time = round(unused_time + time_to_execute, 1)\n",
        "      unused_times.append((curr_time, ms+1, time_to_execute))\n",
        "\n",
        "  return interval_end, server, task1, task2, task3, unused_time, unused_times"
      ],
      "execution_count": null,
      "outputs": []
    },
    {
      "cell_type": "code",
      "metadata": {
        "colab": {
          "base_uri": "https://localhost:8080/",
          "height": 446
        },
        "id": "nqkBV4wJU-ff",
        "outputId": "6d2dd5ba-1bd9-404d-b847-84f39319de8f"
      },
      "source": [
        "evaluate_exc(\"1.6\", exc1_6, create_tasks_RM_server, constant_scheduler=False)"
      ],
      "execution_count": null,
      "outputs": [
        {
          "output_type": "stream",
          "text": [
            "Evaluating excercise: 1.6\n",
            "server\tT: 8\tC: 3\tT0: 0\n",
            "task1\tT: 32\tC: 8\tT0: 0\n",
            "task2\tT: 64\tC: 8\tT0: 28\n",
            "task3\tT: 128\tC: 32\tT0: 0\n",
            "Found scheduling for repeating sequence with period 128(ms)\n",
            "server (0, 3) (8, 11) (16, 19) (24, 27) (32, 35) (40, 43) (48, 51) (56, 59) (64, 67) (72, 75) (80, 83) (88, 91) (96, 99) (104, 107) (112, 115) (120, 123)\n",
            "task1 [(3, 8), (11, 14), (35, 40), (43, 46), (67, 72), (75, 78), (99, 104), (107, 110)]\n",
            "task2 [(28, 32), (46, 48), (51, 53), (92, 96), (110, 112), (115, 117)]\n",
            "task3 [(14, 16), (19, 24), (27, 28), (53, 56), (59, 64), (78, 80), (83, 88), (91, 92), (117, 120), (123, 128)]\n",
            "CPU idle times (start (ms), end (ms), duration (ms)): []\n",
            "Total idle time: 0(ms)\n",
            "CPU utilization: 1.0\n"
          ],
          "name": "stdout"
        },
        {
          "output_type": "display_data",
          "data": {
            "image/png": "[encoded data removed]",
            "text/plain": [
              "<Figure size 2880x360 with 1 Axes>"
            ]
          },
          "metadata": {
            "tags": [],
            "needs_background": "light"
          }
        }
      ]
    },
    {
      "cell_type": "markdown",
      "metadata": {
        "id": "aGOQc838Oe2i"
      },
      "source": [
        "#1.7"
      ]
    },
    {
      "cell_type": "code",
      "metadata": {
        "id": "1MGVj4FOf0UO"
      },
      "source": [
        "def show_scheduling_aper(SHOW_PLOTS, fig_name, task1, task2, task3, server, aper1, aper2, aper3, deadlines=[]):\n",
        "  fig, ax = plt.subplots()\n",
        "  fig.set_size_inches(40, 5)\n",
        "  ax.broken_barh([(round(s, 1), round(e-s, 1)) for s,e in zip(task1[\"start_times\"], task1[\"end_times\"])], (10, 5), facecolors='blue')\n",
        "  ax.broken_barh([(a, .2) for a in task1[\"arrivals\"] ], (10, 3), facecolors='magenta')\n",
        "\n",
        "  ax.broken_barh([(round(s, 1), round(e-s, 1)) for s,e in zip(task2[\"start_times\"], task2[\"end_times\"])], (5, 5), facecolors='yellow')\n",
        "  ax.broken_barh([(a, .2) for a in task2[\"arrivals\"] ], (5, 3), facecolors='magenta')\n",
        "\n",
        "  ax.broken_barh([(round(s, 1), round(e-s, 1)) for s,e in zip(task3[\"start_times\"], task3[\"end_times\"])], (0, 5), facecolors='green')\n",
        "  ax.broken_barh([(a, .2) for a in task3[\"arrivals\"] ], (0, 3), facecolors='magenta')\n",
        "\n",
        "  for aper, color, i in zip([aper1, aper2, aper3], [\"#ff0000\", \"#990000\", \"#cc0000\" ], range(3)):\n",
        "    ax.broken_barh([(round(s, 1), round(e-s, 1)) for s,e in zip(aper[\"start_times\"], aper[\"end_times\"])], (15, 5), facecolors=color)\n",
        "    if len(deadlines):\n",
        "      ax.broken_barh([(deadlines[i], .3)], (15, 3.5), facecolors=color)\n",
        "    ax.broken_barh([(aper[\"T0\"], .3)], (15, 3.5), facecolors='yellow')\n",
        "  ax.broken_barh([(a, .2) for a in server[\"arrivals\"] ], (15, 3), facecolors='magenta')\n",
        "\n",
        "  ax.set_xlabel('ms')\n",
        "  ax.set_xticks([e for e in range(0, 131, 5)])\n",
        "  ax.set_yticks([0, 5, 10, 15])\n",
        "  ax.set_yticklabels([task3['name'], task2['name'], task1['name'], server['name']])\n",
        "  ax.grid(True)\n",
        "  if SHOW_PLOTS:\n",
        "    plt.show()\n",
        "  else:\n",
        "    plt.savefig(f\"figure_{fig_name}.png\", dpi=300)"
      ],
      "execution_count": null,
      "outputs": []
    },
    {
      "cell_type": "code",
      "metadata": {
        "id": "qrLZ-AtfOgP4"
      },
      "source": [
        " def create_tasks_plus_aperiodic():\n",
        "  task1, task2, task3, _ = create_tasks(verbose=False)\n",
        "  server = {\n",
        "      \"T\": 8,\n",
        "      \"C\": 3,\n",
        "      \"T0\": 0,\n",
        "      \"priority\": 0,\n",
        "      \"done\": False,\n",
        "      \"left\": 3,\n",
        "      \"name\": 'server',\n",
        "      \"arrivals\": [0],\n",
        "      \"start_times\": [],\n",
        "      \"end_times\": []\n",
        "  }\n",
        "  aperiodic1 = {\n",
        "      \"T0\": p1,\n",
        "      \"C\": p1,\n",
        "      \"left\": p1,\n",
        "      \"name\": 'aperiodic1',\n",
        "      \"arrivals\": [],\n",
        "      \"start_times\": [],\n",
        "      \"end_times\": []\n",
        "  }\n",
        "  aperiodic2 = {\n",
        "      \"T0\": (p2+1)*p1,\n",
        "      \"C\": p1,\n",
        "      \"left\": p1,\n",
        "      \"name\": 'aperiodic2',\n",
        "      \"arrivals\": [],\n",
        "      \"start_times\": [],\n",
        "      \"end_times\": []\n",
        "  }\n",
        "  aperiodic3 = {\n",
        "      \"T0\": (p3+1)*p1,\n",
        "      \"C\": p1,\n",
        "      \"left\": p1,\n",
        "      \"name\": 'aperiodic3',\n",
        "      \"arrivals\": [],\n",
        "      \"start_times\": [],\n",
        "      \"end_times\": []\n",
        "  }\n",
        "  print(f'\\n{server[\"name\"]}\\tT: {server[\"T\"]}\\tC: {server[\"C\"]}\\tT0: {server[\"T0\"]}')\n",
        "  print(f'{task1[\"name\"]}\\tT: {task1[\"T\"]}\\tC: {task1[\"C\"]}\\tT0: {task1[\"T0\"]}')\n",
        "  print(f'{task2[\"name\"]}\\tT: {task2[\"T\"]}\\tC: {task2[\"C\"]}\\tT0: {task2[\"T0\"]}')\n",
        "  print(f'{task3[\"name\"]}\\tT: {task3[\"T\"]}\\tC: {task3[\"C\"]}\\tT0: {task3[\"T0\"]}')\n",
        "  print(f'{aperiodic1[\"name\"]}\\tC: {aperiodic1[\"C\"]}\\tT0: {aperiodic1[\"T0\"]}')\n",
        "  print(f'{aperiodic2[\"name\"]}\\tC: {aperiodic2[\"C\"]}\\tT0: {aperiodic2[\"T0\"]}')\n",
        "  print(f'{aperiodic3[\"name\"]}\\tC: {aperiodic3[\"C\"]}\\tT0: {aperiodic3[\"T0\"]}\\n')\n",
        "\n",
        "  return task1, task2, task3, server, aperiodic1, aperiodic2, aperiodic3"
      ],
      "execution_count": null,
      "outputs": []
    },
    {
      "cell_type": "code",
      "metadata": {
        "id": "22x3YOSdOghK"
      },
      "source": [
        "def evaluate_exc_aper(exc_num, exc, create_tasks):\n",
        "  print(f'Evaluating excercise: {exc_num}')\n",
        "  interval_end, server, task1, task2, task3, unused_time, unused_times, static_aper_queue = exc(*create_tasks())\n",
        "  print(f'Found scheduling for repeating sequence with period {interval_end}(ms)')\n",
        "\n",
        "  for task in [server, task1, task2, task3]:\n",
        "    print(task[\"name\"], [(round(s, 1), round(e, 1)) for s,e in zip(task[\"start_times\"], task[\"end_times\"])])\n",
        "  for a_task in static_aper_queue:\n",
        "    print(a_task[\"name\"], [(round(s, 1), round(e, 1)) for s,e in zip(a_task[\"start_times\"], a_task[\"end_times\"])])\n",
        "  show_scheduling_aper(SHOW_PLOTS, exc_num, task1, task2, task3, server, *static_aper_queue)\n",
        "  print(f'CPU idle times (start (ms), end (ms), duration (ms)): {unused_times}')\n",
        "  print(f'Total idle time: {unused_time}(ms)')\n",
        "  print(f'CPU utilization: {1- (unused_time / interval_end)}')"
      ],
      "execution_count": null,
      "outputs": []
    },
    {
      "cell_type": "code",
      "metadata": {
        "id": "1u9P6RE1G648"
      },
      "source": [
        "def exc1_7(task1, task2, task3, server, aperiodic1, aperiodic2, aperiodic3):\n",
        "  current_task = None\n",
        "  current_aper = None\n",
        "  epsilon = 1e-4\n",
        "  scheduling = []\n",
        "  unused_time = 0\n",
        "  unused_times = []\n",
        "  aperiodic_queue = []\n",
        "  static_aperiodic_queue = []\n",
        "  interval_end = np.lcm.reduce([task1[\"T\"], task2[\"T\"], task3[\"T\"], server[\"T\"]])\n",
        "  for ms in range(0,interval_end):\n",
        "    # update doneness based on arrival times\n",
        "    if not ms == 0:\n",
        "      for task in [task1, task2, task3, server]:\n",
        "        if  ms % task[\"T\"] == task[\"T0\"]:\n",
        "          if not task[\"done\"] and task[\"name\"] != \"server\":\n",
        "            print('Cannot be scheduled!')\n",
        "          else:\n",
        "            task[\"done\"] = False\n",
        "            task[\"left\"] = task[\"C\"]\n",
        "            task[\"arrivals\"].append(ms)\n",
        "    \n",
        "    # receive aperiodic tasks\n",
        "    for a in [aperiodic1, aperiodic2, aperiodic3]:\n",
        "      if ms == a[\"T0\"]:\n",
        "        aperiodic_queue.append(a)\n",
        "   \n",
        "    curr_time = ms\n",
        "    time_to_execute = 1\n",
        "\n",
        "    # run one of the tasks and update \n",
        "    ran_task = False\n",
        "    for task in [server, task1, task2, task3]:\n",
        "      if not task[\"done\"]:\n",
        "        if task[\"name\"] == server[\"name\"]:\n",
        "          if len(aperiodic_queue):\n",
        "            aper = aperiodic_queue[0]\n",
        "            task_left = task[\"left\"]\n",
        "            aper_left = aper[\"left\"]\n",
        "            if current_task != task[\"name\"]:\n",
        "              task[\"start_times\"].append(curr_time)\n",
        "              aper[\"start_times\"].append(curr_time)\n",
        "              for last_task in [task1, task2, task3]:\n",
        "                if last_task[\"name\"] == current_task:\n",
        "                  last_task[\"end_times\"].append(ms)\n",
        "                  break\n",
        "              current_task = task[\"name\"]\n",
        "              current_aper = aper[\"name\"]\n",
        "            elif current_aper != aper[\"name\"]:\n",
        "              aper[\"start_times\"].append(curr_time)\n",
        "              current_aper = aper[\"name\"]\n",
        "            \n",
        "            task[\"left\"] = round(task_left - time_to_execute, 1)\n",
        "            aper[\"left\"] = round(aper_left - time_to_execute, 1)\n",
        "            \n",
        "            if aper[\"left\"] < epsilon or task[\"left\"] < epsilon:\n",
        "              aper[\"end_times\"].append(round(curr_time + 1, 1))\n",
        "              if aper[\"left\"] < epsilon:\n",
        "                static_aperiodic_queue.append(aper)\n",
        "                aperiodic_queue.pop(0)\n",
        "                current_aper = None\n",
        "\n",
        "            if not len(aperiodic_queue):\n",
        "              task[\"end_times\"].append(round(curr_time + 1, 1))\n",
        "              current_task = None\n",
        "              if abs(round(ms + 1 - task[\"end_times\"][-1], 1)) > epsilon:\n",
        "                unused_time = round(unused_time + ms + 1 - task[\"end_times\"][-1], 1)\n",
        "                unused_times.append((task[\"end_times\"][-1], ms+1, round(ms + 1 - task[\"end_times\"][-1], 1)))\n",
        "\n",
        "            if task[\"left\"] < epsilon:\n",
        "              task[\"done\"] = True\n",
        "              task[\"left\"] = task[\"C\"]\n",
        "              task[\"end_times\"].append(round(curr_time + 1, 1))\n",
        "              current_task = None\n",
        "              if abs(round(ms + 1 - task[\"end_times\"][-1], 1)) > epsilon:\n",
        "                unused_time = round(unused_time + ms + 1 - task[\"end_times\"][-1], 1)\n",
        "                unused_times.append((task[\"end_times\"][-1], ms+1, round(ms + 1 - task[\"end_times\"][-1], 1)))\n",
        "            \n",
        "            scheduling.append(\n",
        "            [curr_time, ms+1 if task[\"left\"] > epsilon else task[\"end_times\"][-1], task[\"name\"]]\n",
        "            )\n",
        "            ran_task = True\n",
        "            break\n",
        "\n",
        "        else:\n",
        "          task_left = task[\"left\"]\n",
        "          if current_task != task[\"name\"]:\n",
        "            task[\"start_times\"].append(curr_time)\n",
        "            for last_task in [task1, task2, task3]:\n",
        "              if last_task[\"name\"] == current_task:\n",
        "                last_task[\"end_times\"].append(ms)\n",
        "                break\n",
        "            current_task = task[\"name\"]\n",
        "          \n",
        "          task[\"left\"] = round(task_left - time_to_execute, 1)\n",
        "          if task[\"left\"] < epsilon:\n",
        "            task[\"done\"] = True\n",
        "            task[\"left\"] = task[\"C\"]\n",
        "            task[\"end_times\"].append(round(curr_time + task_left, 1))\n",
        "            current_task = None\n",
        "            if abs(round(ms + 1 - task[\"end_times\"][-1], 1)) > epsilon:\n",
        "              unused_time = round(unused_time + ms + 1 - task[\"end_times\"][-1], 1)\n",
        "              unused_times.append((task[\"end_times\"][-1], ms+1, round(ms + 1 - task[\"end_times\"][-1], 1)))\n",
        "          \n",
        "          scheduling.append(\n",
        "          [curr_time, ms+1 if task[\"left\"] > epsilon else task[\"end_times\"][-1], task[\"name\"]]\n",
        "          )\n",
        "          ran_task = True\n",
        "          break\n",
        "      \n",
        "    if not ran_task:\n",
        "      unused_time = round(unused_time + time_to_execute, 1)\n",
        "      unused_times.append((curr_time, ms+1, time_to_execute))\n",
        "\n",
        "  return interval_end, server, task1, task2, task3, unused_time, unused_times, static_aperiodic_queue"
      ],
      "execution_count": null,
      "outputs": []
    },
    {
      "cell_type": "code",
      "metadata": {
        "colab": {
          "base_uri": "https://localhost:8080/",
          "height": 602
        },
        "id": "l_dtZ6sxOfyI",
        "outputId": "1f2dca57-15c0-4a4a-bb03-7c5ddd9732bd"
      },
      "source": [
        "evaluate_exc_aper(\"1.7\", exc1_7, create_tasks_plus_aperiodic)"
      ],
      "execution_count": null,
      "outputs": [
        {
          "output_type": "stream",
          "text": [
            "Evaluating excercise: 1.7\n",
            "\n",
            "server\tT: 8\tC: 3\tT0: 0\n",
            "task1\tT: 32\tC: 8\tT0: 0\n",
            "task2\tT: 64\tC: 8\tT0: 28\n",
            "task3\tT: 128\tC: 32\tT0: 0\n",
            "aperiodic1\tC: 4\tT0: 4\n",
            "aperiodic2\tC: 4\tT0: 32\n",
            "aperiodic3\tC: 4\tT0: 4\n",
            "\n",
            "Found scheduling for repeating sequence with period 128(ms)\n",
            "server [(4, 7), (8, 11), (16, 18), (32, 35), (40, 41)]\n",
            "task1 [(0, 4), (7, 8), (11, 14), (35, 40), (41, 44), (64, 72), (96, 104)]\n",
            "task2 [(28, 32), (44, 48), (92, 96), (104, 108)]\n",
            "task3 [(14, 16), (18, 28), (48, 64), (72, 76)]\n",
            "aperiodic1 [(4, 7), (8, 9)]\n",
            "aperiodic3 [(9, 11), (16, 18)]\n",
            "aperiodic2 [(32, 35), (40, 41)]\n",
            "CPU idle times (start (ms), end (ms), duration (ms)): [(76, 77, 1), (77, 78, 1), (78, 79, 1), (79, 80, 1), (80, 81, 1), (81, 82, 1), (82, 83, 1), (83, 84, 1), (84, 85, 1), (85, 86, 1), (86, 87, 1), (87, 88, 1), (88, 89, 1), (89, 90, 1), (90, 91, 1), (91, 92, 1), (108, 109, 1), (109, 110, 1), (110, 111, 1), (111, 112, 1), (112, 113, 1), (113, 114, 1), (114, 115, 1), (115, 116, 1), (116, 117, 1), (117, 118, 1), (118, 119, 1), (119, 120, 1), (120, 121, 1), (121, 122, 1), (122, 123, 1), (123, 124, 1), (124, 125, 1), (125, 126, 1), (126, 127, 1), (127, 128, 1)]\n",
            "Total idle time: 36(ms)\n",
            "CPU utilization: 0.71875\n"
          ],
          "name": "stdout"
        },
        {
          "output_type": "display_data",
          "data": {
            "image/png": "[encoded data removed]",
            "text/plain": [
              "<Figure size 2880x360 with 1 Axes>"
            ]
          },
          "metadata": {
            "tags": [],
            "needs_background": "light"
          }
        }
      ]
    },
    {
      "cell_type": "markdown",
      "metadata": {
        "id": "6S2huTFSOhHo"
      },
      "source": [
        "#1.8"
      ]
    },
    {
      "cell_type": "code",
      "metadata": {
        "id": "rdsZCC1Vb7Qf"
      },
      "source": [
        "def evaluate_exc_aper_TBS(exc_num, exc, create_tasks):\n",
        "  print(f'Evaluating excercise: {exc_num}')\n",
        "  interval_end, server, task1, task2, task3, unused_time, unused_times, aper_queue, mu = exc(*create_tasks())\n",
        "  print(f'Found scheduling for repeating sequence with period {interval_end}(ms)')\n",
        "  print(f'TBS server bandwidth: {mu}')\n",
        "  for task in [task1, task2, task3]:\n",
        "    print(task[\"name\"], [(round(s, 1), round(e, 1)) for s,e in zip(task[\"start_times\"], task[\"end_times\"])])\n",
        "  for deadline, a_task in aper_queue:\n",
        "    print(f'{a_task[\"name\"]} {[(round(s, 1), round(e, 1)) for s,e in zip(a_task[\"start_times\"], a_task[\"end_times\"])]} deadline: {round(deadline, 2)}')\n",
        "  show_scheduling_aper(SHOW_PLOTS, exc_num, task1, task2, task3, server, *[a for _, a in aper_queue], [d for d, _ in aper_queue])\n",
        "  print(f'CPU idle times (start (ms), end (ms), duration (ms)): {unused_times}')\n",
        "  print(f'Total idle time: {unused_time}(ms)')\n",
        "  print(f'CPU utilization: {1- (unused_time / interval_end)}')"
      ],
      "execution_count": null,
      "outputs": []
    },
    {
      "cell_type": "code",
      "metadata": {
        "id": "rq4yFoFiOiK4"
      },
      "source": [
        "def exc1_8(task1, task2, task3, server, aperiodic1, aperiodic2, aperiodic3):\n",
        "  current_task = None\n",
        "  epsilon = 1e-4\n",
        "  scheduling = []\n",
        "  unused_time = 0\n",
        "  unused_times = []\n",
        "  task_queue = []\n",
        "  aperiodic_queue = []\n",
        "  interval_end = np.lcm.reduce([task1[\"T\"], task2[\"T\"], task3[\"T\"], server[\"T\"]])\n",
        "  mu_S = 1 - sum([task_k[\"C\"]/task_k[\"T\"] for task_k in [task1, task2, task3]])\n",
        "\n",
        "  for task in [task1, task2, task3]:\n",
        "    if task[\"T0\"] == 0:\n",
        "      task_deadline = task[\"T\"]\n",
        "      task_queue.append((task_deadline, task))\n",
        "\n",
        "  for ms in range(0,interval_end):\n",
        "    # update doneness based on arrival times\n",
        "    if not ms == 0:\n",
        "      for task in [task1, task2, task3]:\n",
        "        if  ms % task[\"T\"] == task[\"T0\"]:\n",
        "          if not task[\"done\"]:\n",
        "            print('Cannot be scheduled!')\n",
        "          else:\n",
        "            task[\"done\"] = False\n",
        "            task[\"left\"] = task[\"C\"]\n",
        "            task[\"arrivals\"].append(ms)\n",
        "            task_deadline = ms + task[\"T\"]\n",
        "            task_queue.append((task_deadline, task))\n",
        "\n",
        "      # receive aperiodic tasks\n",
        "    for a in [aperiodic1, aperiodic2, aperiodic3]:\n",
        "      if ms == a[\"T0\"]:\n",
        "        d_a_minus_1 = aperiodic_queue[-1][0] if len(aperiodic_queue) else -1\n",
        "        d_a = max(ms, d_a_minus_1) + (a[\"C\"] / mu_S)\n",
        "        aperiodic_queue.append((d_a, a))\n",
        "        task_queue.append((d_a, a))\n",
        "\n",
        "    \n",
        "    curr_time = ms\n",
        "    time_to_execute = 1\n",
        "\n",
        "    ran_task = False\n",
        "    if len(task_queue):\n",
        "      task = get_smallest(task_queue, current_task)[1]\n",
        "      if current_task != task[\"name\"]:\n",
        "        task[\"start_times\"].append(curr_time)\n",
        "        for last_task in [task1, task2, task3]:\n",
        "          if last_task[\"name\"] == current_task:\n",
        "            last_task[\"end_times\"].append(ms)\n",
        "            break\n",
        "        current_task = task[\"name\"]\n",
        "\n",
        "      task_left = task[\"left\"]\n",
        "      task[\"left\"] = round(task_left - time_to_execute, 1)\n",
        "      if task[\"left\"] < epsilon:\n",
        "        task[\"done\"] = True\n",
        "        task[\"left\"] = task[\"C\"]\n",
        "        task[\"end_times\"].append(round(curr_time + task_left, 1))\n",
        "        delete_task_from(task_queue, current_task)\n",
        "        current_task = None\n",
        "        if abs(round(ms + 1 - task[\"end_times\"][-1], 1)) > epsilon:\n",
        "          unused_time = round(unused_time + ms + 1 - task[\"end_times\"][-1], 1)\n",
        "          unused_times.append((task[\"end_times\"][-1], ms+1, round(ms + 1 - task[\"end_times\"][-1], 1)))\n",
        "      \n",
        "      scheduling.append(\n",
        "      [curr_time, ms+1 if task[\"left\"] > epsilon else task[\"end_times\"][-1], task[\"name\"]]\n",
        "      )\n",
        "      ran_task = True\n",
        "\n",
        "    if not ran_task:\n",
        "      unused_time = round(unused_time + time_to_execute, 1)\n",
        "      unused_times.append((curr_time, ms+1, time_to_execute))\n",
        "\n",
        "\n",
        "  return interval_end, server, task1, task2, task3, unused_time, unused_times, aperiodic_queue, mu_S"
      ],
      "execution_count": null,
      "outputs": []
    },
    {
      "cell_type": "code",
      "metadata": {
        "colab": {
          "base_uri": "https://localhost:8080/",
          "height": 602
        },
        "id": "MSZZIMVybYz-",
        "outputId": "2e6b303e-506b-407c-8d4f-812b5f6ac952"
      },
      "source": [
        "evaluate_exc_aper_TBS(\"1.8\", exc1_8, create_tasks_plus_aperiodic)"
      ],
      "execution_count": null,
      "outputs": [
        {
          "output_type": "stream",
          "text": [
            "Evaluating excercise: 1.8\n",
            "\n",
            "server\tT: 8\tC: 3\tT0: 0\n",
            "task1\tT: 32\tC: 8\tT0: 0\n",
            "task2\tT: 64\tC: 8\tT0: 28\n",
            "task3\tT: 128\tC: 32\tT0: 0\n",
            "aperiodic1\tC: 4\tT0: 4\n",
            "aperiodic2\tC: 4\tT0: 32\n",
            "aperiodic3\tC: 4\tT0: 4\n",
            "\n",
            "Found scheduling for repeating sequence with period 128(ms)\n",
            "TBS server bandwidth: 0.375\n",
            "task1 [(0, 4), (12, 16), (36, 44), (64, 72), (96, 104)]\n",
            "task2 [(28, 32), (44, 48), (92, 96), (104, 108)]\n",
            "task3 [(16, 28), (48, 64), (72, 76)]\n",
            "aperiodic1 [(4, 8)] deadline: 14.67\n",
            "aperiodic3 [(8, 12)] deadline: 25.33\n",
            "aperiodic2 [(32, 36)] deadline: 42.67\n",
            "CPU idle times (start (ms), end (ms), duration (ms)): [(76, 77, 1), (77, 78, 1), (78, 79, 1), (79, 80, 1), (80, 81, 1), (81, 82, 1), (82, 83, 1), (83, 84, 1), (84, 85, 1), (85, 86, 1), (86, 87, 1), (87, 88, 1), (88, 89, 1), (89, 90, 1), (90, 91, 1), (91, 92, 1), (108, 109, 1), (109, 110, 1), (110, 111, 1), (111, 112, 1), (112, 113, 1), (113, 114, 1), (114, 115, 1), (115, 116, 1), (116, 117, 1), (117, 118, 1), (118, 119, 1), (119, 120, 1), (120, 121, 1), (121, 122, 1), (122, 123, 1), (123, 124, 1), (124, 125, 1), (125, 126, 1), (126, 127, 1), (127, 128, 1)]\n",
            "Total idle time: 36(ms)\n",
            "CPU utilization: 0.71875\n"
          ],
          "name": "stdout"
        },
        {
          "output_type": "display_data",
          "data": {
            "image/png": "[encoded data removed]",
            "text/plain": [
              "<Figure size 2880x360 with 1 Axes>"
            ]
          },
          "metadata": {
            "tags": [],
            "needs_background": "light"
          }
        }
      ]
    },
    {
      "cell_type": "code",
      "metadata": {
        "id": "_w4PQweSblpN"
      },
      "source": [
        ""
      ],
      "execution_count": null,
      "outputs": []
    },
    {
      "cell_type": "markdown",
      "metadata": {
        "id": "tvfEi6GEuUdc"
      },
      "source": [
        "2"
      ]
    },
    {
      "cell_type": "code",
      "metadata": {
        "colab": {
          "base_uri": "https://localhost:8080/"
        },
        "id": "ggTU3wcVwRDi",
        "outputId": "54fef0d7-a778-4014-d52c-ee010be20db0"
      },
      "source": [
        "print(2.5*1e-6)"
      ],
      "execution_count": null,
      "outputs": [
        {
          "output_type": "stream",
          "text": [
            "2.4999999999999998e-06\n"
          ],
          "name": "stdout"
        }
      ]
    },
    {
      "cell_type": "code",
      "metadata": {
        "id": "gRfUOX9cuWnC"
      },
      "source": [
        "a, b, c, d, e, f = 40, 2.5*1e-6, 1, 3, 5, 80000"
      ],
      "execution_count": null,
      "outputs": []
    },
    {
      "cell_type": "code",
      "metadata": {
        "colab": {
          "base_uri": "https://localhost:8080/"
        },
        "id": "s90Ddf0-vAoJ",
        "outputId": "bc10b745-2c7c-4b25-fcea-3d48486568e1"
      },
      "source": [
        "task1 = {\n",
        "    \"T0\": 0,\n",
        "    \"D\": c,\n",
        "    \"N\": 100000\n",
        "}\n",
        "task2 = {\n",
        "    \"T0\": c,\n",
        "    \"D\": d,\n",
        "    \"N\": 100000\n",
        "}\n",
        "task3 = {\n",
        "    \"T0\": d,\n",
        "    \"D\": e,\n",
        "    \"N\": f\n",
        "}\n",
        "\n",
        "print(f)\n",
        "  "
      ],
      "execution_count": null,
      "outputs": [
        {
          "output_type": "stream",
          "text": [
            "80000\n"
          ],
          "name": "stdout"
        }
      ]
    },
    {
      "cell_type": "markdown",
      "metadata": {
        "id": "OXERPg4PQGGA"
      },
      "source": [
        "2.3"
      ]
    },
    {
      "cell_type": "code",
      "metadata": {
        "id": "TSTfXRoQuxx9"
      },
      "source": [
        "Tasks = {\n",
        "    \"start\": [0, 1, 3], \n",
        "    \"end\": [0.5, 1.5, 3.4],\n",
        "    \"power\": 7\n",
        "}\n",
        "\n",
        "Idles = {\n",
        "    \"start\": [0.5], \n",
        "    \"end\": [1],\n",
        "    \"power\": 5\n",
        "}\n",
        "\n",
        "Sleep = {\n",
        "    \"start\": [1.5, 3.4], \n",
        "    \"end\": [3, 5],\n",
        "    \"power\": 2\n",
        "}"
      ],
      "execution_count": null,
      "outputs": []
    },
    {
      "cell_type": "code",
      "metadata": {
        "id": "r4RXAR4XJA6h"
      },
      "source": [
        "def show_scheduling_power(SHOW_PLOTS, fig_name, tasks, idles, sleeps):\n",
        "  fig, ax = plt.subplots()\n",
        "  \n",
        "  for task, color in zip([tasks, idles, sleeps], [\"blue\", \"green\", \"red\" ]):\n",
        "    ax.broken_barh([(round(s, 1), round(e-s, 1)) for s,e in zip(task[\"start\"], task[\"end\"])], (-0.1, task[\"power\"]), facecolors=color)\n",
        "  \n",
        "\n",
        "  ax.set_xlabel('ms')\n",
        "  ax.set_xticks([round(e/2, 1) if e != 7  else 3.4 for e in range(0, 12)])\n",
        "  ax.set_ylabel('mW')\n",
        "  ax.set_yticks([2, 5, 7])\n",
        "  ax.set_yticklabels([0, 40.3125, 60])\n",
        "  ax.grid(True)\n",
        "  if SHOW_PLOTS:\n",
        "    plt.show()\n",
        "  else:\n",
        "    plt.savefig(f\"figure_{fig_name}.png\", dpi=300)"
      ],
      "execution_count": null,
      "outputs": []
    },
    {
      "cell_type": "code",
      "metadata": {
        "colab": {
          "base_uri": "https://localhost:8080/",
          "height": 279
        },
        "id": "-D0CcBzXKlYQ",
        "outputId": "8f8550cd-bff1-4c68-ce38-375193959736"
      },
      "source": [
        "show_scheduling_power(SHOW_PLOTS, \"2.3\", Tasks, Idles, Sleep)"
      ],
      "execution_count": null,
      "outputs": [
        {
          "output_type": "display_data",
          "data": {
            "image/png": "[encoded data removed]",
            "text/plain": [
              "<Figure size 432x288 with 1 Axes>"
            ]
          },
          "metadata": {
            "tags": [],
            "needs_background": "light"
          }
        }
      ]
    },
    {
      "cell_type": "markdown",
      "metadata": {
        "id": "bZRYtWmWQJau"
      },
      "source": [
        "2.4"
      ]
    },
    {
      "cell_type": "code",
      "metadata": {
        "id": "vAr4NZTHVBdS"
      },
      "source": [
        "Tasks = {\n",
        "    \"start\": [1, 3], \n",
        "    \"end\": [1.5, 3.4],\n",
        "    \"power\": 7\n",
        "}\n",
        "\n",
        "Low_pow = {\n",
        "    \"start\": [0], \n",
        "    \"end\": [1],\n",
        "    \"power\": 5\n",
        "}\n",
        "\n",
        "Sleep = {\n",
        "    \"start\": [1.5, 3.4], \n",
        "    \"end\": [3, 5],\n",
        "    \"power\": 2\n",
        "}"
      ],
      "execution_count": null,
      "outputs": []
    },
    {
      "cell_type": "code",
      "metadata": {
        "id": "B4uCj3VWKxpZ"
      },
      "source": [
        "def show_scheduling_power_saver(SHOW_PLOTS, fig_name, tasks, low_pow, sleeps, xlabels):\n",
        "  fig, ax = plt.subplots()\n",
        "  \n",
        "  for task, color in zip([tasks, low_pow, sleeps], [\"blue\", \"#0099ff\", \"red\" ]):\n",
        "    ax.broken_barh([(round(s, 1), round(e-s, 1)) for s,e in zip(task[\"start\"], task[\"end\"])], (-0.1, task[\"power\"]), facecolors=color)\n",
        "  \n",
        "\n",
        "  ax.set_xlabel('ms')\n",
        "  ax.set_xticks(xlabels)\n",
        "  ax.set_ylabel('mW')\n",
        "  ax.set_yticks([2, 5, 7])\n",
        "  ax.set_yticklabels([0, 42.5, 60])\n",
        "  ax.grid(True)\n",
        "  if SHOW_PLOTS:\n",
        "    plt.show()\n",
        "  else:\n",
        "    plt.savefig(f\"figure_{fig_name}.png\", dpi=300)"
      ],
      "execution_count": null,
      "outputs": []
    },
    {
      "cell_type": "code",
      "metadata": {
        "colab": {
          "base_uri": "https://localhost:8080/",
          "height": 279
        },
        "id": "PUjz-wibLGaY",
        "outputId": "ab109092-c01c-411c-b9a5-b44fcadb1727"
      },
      "source": [
        "show_scheduling_power_saver(SHOW_PLOTS, \"2.4\", Tasks, Low_pow, Sleep, [round(e/2, 1) if e != 7  else 3.4 for e in range(0, 12)])"
      ],
      "execution_count": null,
      "outputs": [
        {
          "output_type": "display_data",
          "data": {
            "image/png": "[encoded data removed]",
            "text/plain": [
              "<Figure size 432x288 with 1 Axes>"
            ]
          },
          "metadata": {
            "tags": [],
            "needs_background": "light"
          }
        }
      ]
    },
    {
      "cell_type": "code",
      "metadata": {
        "id": "05OE1EfFVnOW"
      },
      "source": [
        ""
      ],
      "execution_count": null,
      "outputs": []
    },
    {
      "cell_type": "markdown",
      "metadata": {
        "id": "0BL7GNOpbZuc"
      },
      "source": [
        "2.5"
      ]
    },
    {
      "cell_type": "code",
      "metadata": {
        "id": "1c98B1vjbZdd"
      },
      "source": [
        "Tasks = {\n",
        "    \"start\": [1, 4.6], \n",
        "    \"end\": [1.5, 5],\n",
        "    \"power\": 7\n",
        "}\n",
        "\n",
        "Low_pow = {\n",
        "    \"start\": [0], \n",
        "    \"end\": [1],\n",
        "    \"power\": 5\n",
        "}\n",
        "\n",
        "Sleep = {\n",
        "    \"start\": [1.5], \n",
        "    \"end\": [4.6],\n",
        "    \"power\": 2\n",
        "}"
      ],
      "execution_count": null,
      "outputs": []
    },
    {
      "cell_type": "code",
      "metadata": {
        "colab": {
          "base_uri": "https://localhost:8080/",
          "height": 279
        },
        "id": "JWjDZZf-c2ym",
        "outputId": "33001265-e1c8-48c4-8141-66106604d0dc"
      },
      "source": [
        "show_scheduling_power_saver(SHOW_PLOTS, \"2.5\", Tasks, Low_pow, Sleep, [round(e/2, 1) if e != 9  else 4.6 for e in range(0, 12)])"
      ],
      "execution_count": null,
      "outputs": [
        {
          "output_type": "display_data",
          "data": {
            "image/png": "[encoded data removed]",
            "text/plain": [
              "<Figure size 432x288 with 1 Axes>"
            ]
          },
          "metadata": {
            "tags": [],
            "needs_background": "light"
          }
        }
      ]
    },
    {
      "cell_type": "code",
      "metadata": {
        "id": "dKcbrqlXc3U0"
      },
      "source": [
        ""
      ],
      "execution_count": null,
      "outputs": []
    }
  ]
}